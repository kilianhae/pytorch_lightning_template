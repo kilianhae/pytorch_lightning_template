{
 "cells": [
  {
   "cell_type": "code",
   "execution_count": null,
   "id": "54a31f76",
   "metadata": {},
   "outputs": [],
   "source": []
  },
  {
   "cell_type": "code",
   "execution_count": null,
   "id": "7cb28561",
   "metadata": {},
   "outputs": [],
   "source": []
  },
  {
   "cell_type": "code",
   "execution_count": 14,
   "id": "8fcf447f",
   "metadata": {},
   "outputs": [],
   "source": [
    "class Animal():\n",
    "    def __init__(self, name):\n",
    "        self.name=name"
   ]
  },
  {
   "cell_type": "code",
   "execution_count": 18,
   "id": "a115e7b5",
   "metadata": {},
   "outputs": [],
   "source": [
    "def returnobject(a: str) -> int:\n",
    "    return \"hah\"\n"
   ]
  },
  {
   "cell_type": "code",
   "execution_count": 19,
   "id": "51ab1395",
   "metadata": {},
   "outputs": [
    {
     "data": {
      "text/plain": [
       "'hah'"
      ]
     },
     "execution_count": 19,
     "metadata": {},
     "output_type": "execute_result"
    }
   ],
   "source": [
    "returnobject(a=2)"
   ]
  },
  {
   "cell_type": "code",
   "execution_count": null,
   "id": "383f7b1f",
   "metadata": {},
   "outputs": [],
   "source": []
  }
 ],
 "metadata": {
  "kernelspec": {
   "display_name": "pymedphys",
   "language": "python",
   "name": "pymedphys"
  },
  "language_info": {
   "codemirror_mode": {
    "name": "ipython",
    "version": 3
   },
   "file_extension": ".py",
   "mimetype": "text/x-python",
   "name": "python",
   "nbconvert_exporter": "python",
   "pygments_lexer": "ipython3",
   "version": "3.9.11"
  }
 },
 "nbformat": 4,
 "nbformat_minor": 5
}
